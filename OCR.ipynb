{
 "cells": [
  {
   "cell_type": "code",
   "execution_count": 1,
   "metadata": {},
   "outputs": [],
   "source": [
    "import cv2\n",
    "import pytesseract\n",
    "import numpy as np"
   ]
  },
  {
   "cell_type": "code",
   "execution_count": 68,
   "metadata": {},
   "outputs": [],
   "source": [
    "img = cv2.imread('3.jpg')\n",
    "gray = cv2.cvtColor(img, cv2.COLOR_RGB2GRAY)\n",
    "gray, img_bin = cv2.threshold(gray,128,255,cv2.THRESH_BINARY | cv2.THRESH_OTSU)\n",
    "gray = cv2.bitwise_not(img_bin)"
   ]
  },
  {
   "cell_type": "code",
   "execution_count": 69,
   "metadata": {},
   "outputs": [
    {
     "name": "stdout",
     "output_type": "stream",
     "text": [
      "OUTPUT: Common Technical Document\n",
      "\n",
      "AstraZeneca strongly supports CTD and seeks to utilise it as soon as is feasible, In\n",
      "deciding upon strategies for implementation, AslraZeneca would ask that the following\n",
      "points be taken into account :\n",
      "\n",
      "- Commitment - CTD the future for us all?\n",
      "AslmZenecu urges mm all concerned commit completely [0 CTD. ln panicular we urge that CTD be adnpled as\n",
      "Ihc sole formal for Ihc future, nol us jug: an allcmalivc. Also lcrriluri'dl aupplcmcms :huuld be kept m (A\n",
      "minimum and only rcqucalcd whcrc CTD rcally docs “0| provide information csscmiul for local rcvicw.\n",
      "\n",
      "- Synchronization of Mandatory implementation\n",
      "CTD is Intended as an exams: m global hannunisalion. therefore [he dales for the mandalory use of CTD must\n",
      "he harmonised, Failure to do so will signiﬁcamly diminish the global impact of CTDV and greatly complicate\n",
      "\n",
      "the implementation of the formal within industry. delaying significantly the realisation m‘ the benefits CTD will\n",
      "deliver.\n",
      "\n",
      "' Mixed dossiers - formats, old and new\n",
      "The scope to submil “mixed dossiers\" for an immm period will considerably assist Industry in imroducing\n",
      "CTD. By mixed dossiers we mean whole modules in old formal or CTD. Much Qualily and Nonrclinical\n",
      "information is alrcady wn'llcn in old funnal. Rcrwriling in CTD furmal would be cuslly and add liltlc valuc.\n",
      "\n",
      "Supplementary applications should be allowed in mlxed forma| where prevmusly sublmued data is m old\n",
      "formal.\n",
      "\n",
      "- Global Electronic Standards\n",
      "\n",
      "Truly harmonised electronic standards for all levels of dossiers an: essential Differing standards acmss regions\n",
      "could cancel am all [he savings in time, effort and cost lhal CTD would otherwise deliver,\n",
      "\n",
      "AstraZeneca§\n",
      "\n",
      "\n"
     ]
    }
   ],
   "source": [
    "kernel = np.ones((1, 1), np.uint8)\n",
    "img = cv2.erode(gray, kernel, iterations=3)\n",
    "img = cv2.dilate(img, kernel, iterations=1)\n",
    "out_below = pytesseract.image_to_string(img)\n",
    "print(\"OUTPUT:\", out_below)"
   ]
  },
  {
   "cell_type": "code",
   "execution_count": null,
   "metadata": {},
   "outputs": [],
   "source": []
  }
 ],
 "metadata": {
  "kernelspec": {
   "display_name": "Python 3",
   "language": "python",
   "name": "python3"
  },
  "language_info": {
   "codemirror_mode": {
    "name": "ipython",
    "version": 3
   },
   "file_extension": ".py",
   "mimetype": "text/x-python",
   "name": "python",
   "nbconvert_exporter": "python",
   "pygments_lexer": "ipython3",
   "version": "3.7.4"
  }
 },
 "nbformat": 4,
 "nbformat_minor": 2
}
